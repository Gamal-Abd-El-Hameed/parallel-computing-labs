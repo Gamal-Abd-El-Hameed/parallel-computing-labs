{
  "cells": [
    {
      "cell_type": "markdown",
      "source": [
        "# imports"
      ],
      "metadata": {
        "id": "_X35246fcuks"
      }
    },
    {
      "cell_type": "code",
      "execution_count": 2,
      "metadata": {
        "id": "bUzOXgUhREPO"
      },
      "outputs": [],
      "source": [
        "import numpy as np\n",
        "import random\n",
        "from timeit import default_timer as timer\n",
        "import gc\n",
        "import cupy as cp\n",
        "from tabulate import tabulate\n",
        "import matplotlib.pyplot as plt\n",
        "from prettytable import PrettyTable\n",
        "import pandas as pd\n",
        "import seaborn as sns"
      ]
    },
    {
      "cell_type": "markdown",
      "source": [
        "# Code"
      ],
      "metadata": {
        "id": "kWh36QCncxm9"
      }
    },
    {
      "cell_type": "code",
      "source": [
        "# Benchmarking code\n",
        "results = []\n",
        "min_size, max_size = 500, pow(2, 14)\n",
        "test_cases = 10\n",
        "\n",
        "for i in range(test_cases):\n",
        "    print('case:', i + 1)\n",
        "    # Set the size of matrices\n",
        "    N = random.randint(min_size, max_size)\n",
        "\n",
        "    # Initialize matrices\n",
        "    A = np.random.rand(N, N).astype(np.float32)\n",
        "    B = np.random.rand(N, N).astype(np.float32)\n",
        "    C = np.random.rand(N, N).astype(np.float32)\n",
        "\n",
        "    # CPU\n",
        "    start = timer()\n",
        "    CPU_ans = np.dot(A, A + B) + C\n",
        "    end = timer()\n",
        "    CPU_time = end - start\n",
        "\n",
        "    # GPU\n",
        "    start = timer()\n",
        "    GPU_ans = cp.matmul(cp.asarray(A), cp.asarray(A) + cp.asarray(B)) + cp.asarray(C)\n",
        "    cp.cuda.Stream.null.synchronize()  # Ensure that GPU computation is finished before recording end time\n",
        "    end = timer()\n",
        "    GPU_time = end - start\n",
        "\n",
        "    results.append((N, CPU_time, GPU_time))\n",
        "    # Free memory\n",
        "    del A, B, C, CPU_ans, GPU_ans\n",
        "    gc.collect()\n",
        "\n",
        "# Display the results\n",
        "print(tabulate(results, headers=[\"Size\", \"CPU Time\", \"GPU Time\"]))\n",
        "\n",
        "# Extract data for plotting\n",
        "sizes, cpu_times, gpu_times = zip(*results)\n",
        "\n",
        "# Plot the benchmark results\n",
        "plt.figure(figsize=(10, 6))\n",
        "plt.plot(sizes, cpu_times, marker='o', label='CPU Time')\n",
        "plt.plot(sizes, gpu_times, marker='o', label='GPU Time')\n",
        "plt.xscale('log')\n",
        "plt.yscale('log')\n",
        "plt.title('Matrix Multiplication Execution Time Comparison (CPU vs GPU)')\n",
        "plt.xlabel('Matrix Size')\n",
        "plt.ylabel('Execution Time (seconds)')\n",
        "plt.legend()\n",
        "plt.show()"
      ],
      "metadata": {
        "id": "sEbKywd121vE",
        "colab": {
          "base_uri": "https://localhost:8080/"
        },
        "outputId": "47116164-86e2-474e-9d62-b196dcce2e22"
      },
      "execution_count": null,
      "outputs": [
        {
          "output_type": "stream",
          "name": "stdout",
          "text": [
            "case: 1\n",
            "case: 2\n",
            "case: 3\n",
            "case: 4\n",
            "case: 5\n"
          ]
        }
      ]
    },
    {
      "cell_type": "code",
      "source": [
        "results = []\n",
        "min_size, max_size = 500, pow(2, 14)\n",
        "test_cases = 10\n",
        "\n",
        "for i in range(test_cases):\n",
        "    print('case:', i + 1)\n",
        "    # Set the size of matrices\n",
        "    N = random.randint(min_size, max_size)\n",
        "\n",
        "    # Initialize matrices\n",
        "    A = np.random.rand(N, N).astype(np.float32)\n",
        "    B = np.random.rand(N, N).astype(np.float32)\n",
        "    C = np.random.rand(N, N).astype(np.float32)\n",
        "\n",
        "    # CPU\n",
        "    start = timer()\n",
        "    CPU_ans = np.dot(A, A + B) + C\n",
        "    end = timer()\n",
        "    CPU_time = end - start\n",
        "\n",
        "    # GPU\n",
        "    start = timer()\n",
        "    GPU_ans = cp.matmul(cp.asarray(A), cp.asarray(A) + cp.asarray(B)) + cp.asarray(C)\n",
        "    cp.cuda.Stream.null.synchronize()  # Ensure that GPU computation is finished before recording end time\n",
        "    end = timer()\n",
        "    GPU_time = end - start\n",
        "\n",
        "    results.append((N, CPU_time, GPU_time))\n",
        "    # Free memory\n",
        "    del A, B, C, CPU_ans, GPU_ans\n",
        "    gc.collect()\n",
        "\n",
        "# Create a Pandas DataFrame for tabular representation\n",
        "df = pd.DataFrame(results, columns=[\"Size\", \"CPU Time\", \"GPU Time\"])\n",
        "\n",
        "# Display the results using Pandas\n",
        "print(df)\n",
        "\n",
        "# Plot the results using Seaborn\n",
        "plt.figure(figsize=(10, 6))\n",
        "sns.lineplot(data=df, x='Size', y='CPU Time', label='CPU Time')\n",
        "sns.lineplot(data=df, x='Size', y='GPU Time', label='GPU Time')\n",
        "plt.xlabel('Matrix Size')\n",
        "plt.ylabel('Time (s)')\n",
        "plt.title('CPU vs GPU Time')\n",
        "plt.legend()\n",
        "plt.show()"
      ],
      "metadata": {
        "colab": {
          "base_uri": "https://localhost:8080/",
          "height": 262
        },
        "id": "Q23OvokSZW42",
        "outputId": "67bcfaab-f56b-41be-ec6b-1948548bff0d"
      },
      "execution_count": 1,
      "outputs": [
        {
          "output_type": "stream",
          "name": "stdout",
          "text": [
            "case: 1\n"
          ]
        },
        {
          "output_type": "error",
          "ename": "NameError",
          "evalue": "name 'random' is not defined",
          "traceback": [
            "\u001b[0;31m---------------------------------------------------------------------------\u001b[0m",
            "\u001b[0;31mNameError\u001b[0m                                 Traceback (most recent call last)",
            "\u001b[0;32m<ipython-input-1-764925768d42>\u001b[0m in \u001b[0;36m<cell line: 5>\u001b[0;34m()\u001b[0m\n\u001b[1;32m      6\u001b[0m     \u001b[0mprint\u001b[0m\u001b[0;34m(\u001b[0m\u001b[0;34m'case:'\u001b[0m\u001b[0;34m,\u001b[0m \u001b[0mi\u001b[0m \u001b[0;34m+\u001b[0m \u001b[0;36m1\u001b[0m\u001b[0;34m)\u001b[0m\u001b[0;34m\u001b[0m\u001b[0;34m\u001b[0m\u001b[0m\n\u001b[1;32m      7\u001b[0m     \u001b[0;31m# Set the size of matrices\u001b[0m\u001b[0;34m\u001b[0m\u001b[0;34m\u001b[0m\u001b[0m\n\u001b[0;32m----> 8\u001b[0;31m     \u001b[0mN\u001b[0m \u001b[0;34m=\u001b[0m \u001b[0mrandom\u001b[0m\u001b[0;34m.\u001b[0m\u001b[0mrandint\u001b[0m\u001b[0;34m(\u001b[0m\u001b[0mmin_size\u001b[0m\u001b[0;34m,\u001b[0m \u001b[0mmax_size\u001b[0m\u001b[0;34m)\u001b[0m\u001b[0;34m\u001b[0m\u001b[0;34m\u001b[0m\u001b[0m\n\u001b[0m\u001b[1;32m      9\u001b[0m \u001b[0;34m\u001b[0m\u001b[0m\n\u001b[1;32m     10\u001b[0m     \u001b[0;31m# Initialize matrices\u001b[0m\u001b[0;34m\u001b[0m\u001b[0;34m\u001b[0m\u001b[0m\n",
            "\u001b[0;31mNameError\u001b[0m: name 'random' is not defined"
          ]
        }
      ]
    },
    {
      "cell_type": "code",
      "source": [
        "# Specific matrix sizes\n",
        "sizes = [10, 100, 1000, 10000, 100000, 1000000, 10000000]\n",
        "test_cases = 10\n",
        "\n",
        "# Benchmarking code\n",
        "results = []\n",
        "\n",
        "for N in sizes:\n",
        "    print('Matrix Size:', N)\n",
        "\n",
        "    # Initialize matrices\n",
        "    A = np.random.rand(N, N).astype(np.float32)\n",
        "    B = np.random.rand(N, N).astype(np.float32)\n",
        "    C = np.random.rand(N, N).astype(np.float32)\n",
        "\n",
        "    # CPU\n",
        "    start = timer()\n",
        "    CPU_ans = np.dot(A, A + B) + C\n",
        "    end = timer()\n",
        "    CPU_time = end - start\n",
        "\n",
        "    # GPU\n",
        "    start = timer()\n",
        "    GPU_ans = cp.matmul(cp.asarray(A), cp.asarray(A) + cp.asarray(B)) + cp.asarray(C)\n",
        "    cp.cuda.Stream.null.synchronize()  # Ensure that GPU computation is finished before recording end time\n",
        "    end = timer()\n",
        "    GPU_time = end - start\n",
        "\n",
        "    results.append((N, CPU_time, GPU_time))\n",
        "    # Free memory\n",
        "    del A, B, C, CPU_ans, GPU_ans\n",
        "    gc.collect()\n",
        "\n",
        "# Display the results\n",
        "print(tabulate(results, headers=[\"Size\", \"CPU Time\", \"GPU Time\"]))\n",
        "\n",
        "# Extract data for plotting\n",
        "sizes, cpu_times, gpu_times = zip(*results)\n",
        "\n",
        "# Plot the benchmark results\n",
        "plt.figure(figsize=(10, 6))\n",
        "plt.plot(sizes, cpu_times, marker='o', label='CPU Time')\n",
        "plt.plot(sizes, gpu_times, marker='o', label='GPU Time')\n",
        "plt.xscale('log')\n",
        "plt.yscale('log')\n",
        "plt.title('Matrix Multiplication Execution Time Comparison (CPU vs GPU)')\n",
        "plt.xlabel('Matrix Size')\n",
        "plt.ylabel('Execution Time (seconds)')\n",
        "plt.legend()\n",
        "plt.show()"
      ],
      "metadata": {
        "colab": {
          "base_uri": "https://localhost:8080/"
        },
        "id": "7Qbc80DCbBUH",
        "outputId": "3ed5a87f-3326-4aca-80c7-e5f9516b3258"
      },
      "execution_count": null,
      "outputs": [
        {
          "output_type": "stream",
          "name": "stdout",
          "text": [
            "Matrix Size: 10\n",
            "Matrix Size: 100\n",
            "Matrix Size: 1000\n",
            "Matrix Size: 10000\n",
            "Matrix Size: 100000\n"
          ]
        }
      ]
    },
    {
      "cell_type": "code",
      "source": [],
      "metadata": {
        "id": "G5zCpIDAbrVS"
      },
      "execution_count": null,
      "outputs": []
    }
  ],
  "metadata": {
    "accelerator": "GPU",
    "colab": {
      "provenance": []
    },
    "gpuClass": "standard",
    "kernelspec": {
      "display_name": "Python 3",
      "name": "python3"
    },
    "language_info": {
      "name": "python"
    }
  },
  "nbformat": 4,
  "nbformat_minor": 0
}